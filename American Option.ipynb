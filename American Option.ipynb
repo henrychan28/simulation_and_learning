{
 "cells": [
  {
   "cell_type": "markdown",
   "metadata": {},
   "source": [
    "<h3>Import Libraries</h3>"
   ]
  },
  {
   "cell_type": "code",
   "execution_count": 228,
   "metadata": {
    "collapsed": false
   },
   "outputs": [
    {
     "name": "stdout",
     "output_type": "stream",
     "text": [
      "The line_profiler extension is already loaded. To reload it, use:\n",
      "  %reload_ext line_profiler\n"
     ]
    }
   ],
   "source": [
    "import math\n",
    "\n",
    "import numpy as np\n",
    "import matplotlib.pyplot as plt\n",
    "\n",
    "%matplotlib inline\n",
    "%load_ext line_profiler"
   ]
  },
  {
   "cell_type": "markdown",
   "metadata": {},
   "source": [
    "<h3>Helper Functions</h3>"
   ]
  },
  {
   "cell_type": "code",
   "execution_count": 3,
   "metadata": {
    "collapsed": true
   },
   "outputs": [],
   "source": [
    "def f_indicator(boolean):\n",
    "    return 1 if boolean else 0"
   ]
  },
  {
   "cell_type": "code",
   "execution_count": 4,
   "metadata": {
    "collapsed": true
   },
   "outputs": [],
   "source": [
    "def geometric_brownian_motion(z, t, s_0, mu, sigma):\n",
    "    '''\n",
    "    Simulate geometric brownian motion according to a given random normal distribution and time stamps\n",
    "    ---------------------------\n",
    "    Parameters\n",
    "    z: array of standard normal distribution with size n\n",
    "    t: list of time stamps with size n+1\n",
    "    \n",
    "    Return\n",
    "    s: array of geometric brownian motion with size n+1 \n",
    "    '''\n",
    "    s = np.repeat(s_0, len(z)+1)\n",
    "    for i in range(1, len(z)+1):\n",
    "        s[i] = s[i-1]*math.exp((mu-0.5*sigma**2)*(t[i]-t[i-1])+sigma*z[i-1]*(t[i]-t[i-1])**0.5)\n",
    "    return s"
   ]
  },
  {
   "cell_type": "code",
   "execution_count": 5,
   "metadata": {
    "collapsed": true
   },
   "outputs": [],
   "source": [
    "def real_stock_price_movement(s, t, r, dividends, t_dividends):\n",
    "    '''\n",
    "    Map geometric brownian motion simulation result to real stock price by adjusting with respect to \n",
    "    the dividend pay\n",
    "    -----------------------------\n",
    "    Parameters\n",
    "    s: array of geometric brownian motion sample with size n+1\n",
    "    t: array of time stamp corresponding to each sample with size n+1\n",
    "    r: interest rate\n",
    "    dividends: list of possible dividend\n",
    "    t_dividends: list of time of dividend pay\n",
    "    \n",
    "    Return\n",
    "    s_real: array of stock price movement with dividend correction\n",
    "    '''\n",
    "    s += get_dividend_adjustment(t, dividends, t_dividends, r)\n",
    "    return s"
   ]
  },
  {
   "cell_type": "code",
   "execution_count": 6,
   "metadata": {
    "collapsed": true
   },
   "outputs": [],
   "source": [
    "def get_dividend_adjustment(t, dividends, t_dividends, r):\n",
    "    '''\n",
    "    Get the present value of dividend at time t with a certain dividend scheme specified\n",
    "    -----------------------------\n",
    "    Parameters\n",
    "    t: list of time stamps\n",
    "    dividends: list of possible dividend\n",
    "    t_dividends: list of time of dividend pay\n",
    "    r: interest rate\n",
    "    \n",
    "    Return\n",
    "    d_t: dividend adjustment at time t (inclusive for dividend at time t)\n",
    "    '''\n",
    "    d_t = np.zeros(len(t), dtype=np.float32)\n",
    "    for idx, time_stamp in enumerate(t):\n",
    "        for t_dividend, dividend in zip(t_dividends, dividends):\n",
    "            d_t[idx] += f_indicator(time_stamp<=t_dividend)*dividend*math.exp(-r*(t_dividend-time_stamp))\n",
    "    return d_t"
   ]
  },
  {
   "cell_type": "code",
   "execution_count": 335,
   "metadata": {
    "collapsed": true
   },
   "outputs": [],
   "source": [
    "def american_option_payoff(s_real, K, r, t, t_dividends, thresholds):\n",
    "    '''\n",
    "    Calculate the payoff of an american option given a strategy defined by thresholds\n",
    "    ----------------------------\n",
    "    Parameters\n",
    "    s_real: array of stock price movement with dividend correction\n",
    "    K: exercise price\n",
    "    r: interest rate\n",
    "    t: list of time stamps in ascending order\n",
    "    t_dividends: list of time of dividend pay in ascending order\n",
    "    thresholds: list of threshold for determining execution of option\n",
    "    \n",
    "    Return:\n",
    "    payoff: payoff from holding the option with a simulated stock price\n",
    "    '''\n",
    "    for threshold, t_dividend in zip(thresholds, t_dividends):\n",
    "        if t_dividend not in t:\n",
    "            raise ValueError(\"Some elements of t_dividends are not included in t.\")\n",
    "        idx = t.index(t_dividend)\n",
    "        if s_real[idx] >= threshold:\n",
    "            return (s_real[idx] - K) * math.exp(r*(-t_dividend))\n",
    "    return max(0, s_real[-1]-K)*math.exp(-r*t[-1])"
   ]
  },
  {
   "cell_type": "code",
   "execution_count": 336,
   "metadata": {
    "collapsed": true
   },
   "outputs": [],
   "source": [
    "def simulate_american_option_payoff(z, t, s_0, mu, sigma, r, K, dividends, t_dividends,thresholds):\n",
    "    '''\n",
    "    Simulate american option payoff from an instance of a standard normal vector\n",
    "    -------------------------------\n",
    "    Parameters\n",
    "    z: array of standard normal distribution with size n\n",
    "    t: list of time stamps with size n+1\n",
    "    s_0: initial stock price\n",
    "    r: interest rate\n",
    "    K: exercise price\n",
    "    dividends: list of possible dividend\n",
    "    t_dividends: list of time of dividend pay\n",
    "    thresholds: list of threshold for determining execution of option\n",
    "\n",
    "    Return:\n",
    "    payoff: payoff from holding the option with a simulated stock price\n",
    "    '''\n",
    "    s = geometric_brownian_motion(z, t, s_0, mu, sigma)\n",
    "    s_real = real_stock_price_movement(s, t, r, dividends, t_dividends)\n",
    "    return american_option_payoff(s_real, K, r, t, t_dividends, thresholds)"
   ]
  },
  {
   "cell_type": "markdown",
   "metadata": {
    "collapsed": true
   },
   "source": [
    "<h3>Payoff Simulation</h3>"
   ]
  },
  {
   "cell_type": "markdown",
   "metadata": {},
   "source": [
    "<h4>Simulate an instance of the real stock price movement for inspection</h4>"
   ]
  },
  {
   "cell_type": "code",
   "execution_count": 375,
   "metadata": {
    "collapsed": true
   },
   "outputs": [],
   "source": [
    "#Problem Parameters\n",
    "t_dividends = [0.3, 0.6]\n",
    "t_expiration = 0.9\n",
    "dividends = [2,2]\n",
    "thresholds = [60, 60]\n",
    "s_0 = 50. #starting price\n",
    "K = 50.  #exercise price\n",
    "mu = 0.1\n",
    "sigma = 0.15\n",
    "r = 0.1 #interest rate\n",
    "initial_adjustment = get_dividend_adjustment([0], dividends, t_dividends, r)[0]"
   ]
  },
  {
   "cell_type": "code",
   "execution_count": 376,
   "metadata": {
    "collapsed": true
   },
   "outputs": [],
   "source": [
    "#Time step parameters\n",
    "end_time = 0.9\n",
    "step_size = 0.005\n",
    "number_of_step = int(end_time/step_size)\n",
    "t = [step_size*i for i in range(number_of_step+1)]"
   ]
  },
  {
   "cell_type": "code",
   "execution_count": 377,
   "metadata": {
    "collapsed": false
   },
   "outputs": [
    {
     "data": {
      "text/plain": [
       "[<matplotlib.lines.Line2D at 0x2444f520cc0>]"
      ]
     },
     "execution_count": 377,
     "metadata": {},
     "output_type": "execute_result"
    },
    {
     "data": {
      "image/png": "[encoded data removed]",
      "text/plain": [
       "<matplotlib.figure.Figure at 0x2444f4e0e10>"
      ]
     },
     "metadata": {},
     "output_type": "display_data"
    }
   ],
   "source": [
    "z = np.random.normal(size=len(t)-1)\n",
    "s = geometric_brownian_motion(z, t, s_0-initial_adjustment, mu, sigma)\n",
    "s_real = real_stock_price_movement(s, t, r, dividends, t_dividends)\n",
    "plt.plot(t, s_real)"
   ]
  },
  {
   "cell_type": "code",
   "execution_count": 378,
   "metadata": {
    "collapsed": false
   },
   "outputs": [
    {
     "data": {
      "text/plain": [
       "[<matplotlib.lines.Line2D at 0x2444f595978>]"
      ]
     },
     "execution_count": 378,
     "metadata": {},
     "output_type": "execute_result"
    },
    {
     "data": {
      "image/png": "[encoded data removed]",
      "text/plain": [
       "<matplotlib.figure.Figure at 0x2444f4fb9e8>"
      ]
     },
     "metadata": {},
     "output_type": "display_data"
    }
   ],
   "source": [
    "t = [0,0.3,0.6,0.9]\n",
    "z = np.random.normal(size=len(t)-1)\n",
    "s = geometric_brownian_motion(z, t, s_0-initial_adjustment, mu, sigma)\n",
    "s_real = real_stock_price_movement(s, t, r, dividends, t_dividends)\n",
    "plt.plot(t, s_real)"
   ]
  },
  {
   "cell_type": "markdown",
   "metadata": {},
   "source": [
    "<p>Calcuate option payoff</p>"
   ]
  },
  {
   "cell_type": "code",
   "execution_count": 468,
   "metadata": {
    "collapsed": true
   },
   "outputs": [],
   "source": [
    "#Problem Parameters\n",
    "t = [0,0.3,0.6,0.9]\n",
    "t_dividends = [0.3, 0.6]\n",
    "t_expiration = 0.9\n",
    "dividends = [2,2]\n",
    "thresholds = [60, 60]\n",
    "s_0 = 50. #starting price\n",
    "K = 50 #exercise price\n",
    "mu = 0.1\n",
    "r = 0.1 #interest rate\n",
    "initial_adjustment = get_dividend_adjustment([0], dividends, t_dividends, r)[0]\n",
    "option_price = 4.85"
   ]
  },
  {
   "cell_type": "code",
   "execution_count": 481,
   "metadata": {
    "collapsed": true
   },
   "outputs": [],
   "source": [
    "#Simulation Parameters\n",
    "sigma = 0.1\n",
    "n = 10000\n",
    "delta = 1e-5\n",
    "epilson = 1e-3"
   ]
  },
  {
   "cell_type": "code",
   "execution_count": 482,
   "metadata": {
    "collapsed": false
   },
   "outputs": [],
   "source": [
    "result = np.zeros(n)\n",
    "sigmas = np.zeros(n)\n",
    "for i in range(n):\n",
    "    z = np.random.normal(size=len(t)-1)\n",
    "    result[i] = simulate_american_option_payoff(z, t, s_0, mu, sigma, r, K, dividends, t_dividends,thresholds)\n",
    "    slope_sign = np.sign(simulate_american_option_payoff(z, t, s_0, mu, sigma+delta, r, K, dividends, t_dividends,thresholds)-\n",
    "                         simulate_american_option_payoff(z, t, s_0, mu, sigma-delta, r, K, dividends, t_dividends,thresholds))\n",
    "    current_error = (result[i] - option_price)\n",
    "    error_sign = np.sign(current_error)\n",
    "    sigmas[i] = sigma\n",
    "    sigma -= epilson*slope_sign*error_sign*current_error"
   ]
  },
  {
   "cell_type": "code",
   "execution_count": 483,
   "metadata": {
    "collapsed": false
   },
   "outputs": [
    {
     "data": {
      "text/plain": [
       "4.4478254701749291"
      ]
     },
     "execution_count": 483,
     "metadata": {},
     "output_type": "execute_result"
    }
   ],
   "source": [
    "result.mean()"
   ]
  },
  {
   "cell_type": "code",
   "execution_count": 484,
   "metadata": {
    "collapsed": false
   },
   "outputs": [
    {
     "data": {
      "text/plain": [
       "2.9192711757784142"
      ]
     },
     "execution_count": 484,
     "metadata": {},
     "output_type": "execute_result"
    }
   ],
   "source": [
    "result.std()"
   ]
  },
  {
   "cell_type": "code",
   "execution_count": 485,
   "metadata": {
    "collapsed": false
   },
   "outputs": [
    {
     "data": {
      "text/plain": [
       "[<matplotlib.lines.Line2D at 0x244536f8cf8>]"
      ]
     },
     "execution_count": 485,
     "metadata": {},
     "output_type": "execute_result"
    },
    {
     "data": {
      "image/png": "[encoded data removed]",
      "text/plain": [
       "<matplotlib.figure.Figure at 0x244536a4a20>"
      ]
     },
     "metadata": {},
     "output_type": "display_data"
    }
   ],
   "source": [
    "plt.plot(sigmas[:1000])"
   ]
  },
  {
   "cell_type": "code",
   "execution_count": 486,
   "metadata": {
    "collapsed": false
   },
   "outputs": [
    {
     "data": {
      "text/plain": [
       "0.063733510698299647"
      ]
     },
     "execution_count": 486,
     "metadata": {},
     "output_type": "execute_result"
    }
   ],
   "source": [
    "sigmas.mean()"
   ]
  },
  {
   "cell_type": "code",
   "execution_count": null,
   "metadata": {
    "collapsed": true
   },
   "outputs": [],
   "source": []
  },
  {
   "cell_type": "code",
   "execution_count": null,
   "metadata": {
    "collapsed": true
   },
   "outputs": [],
   "source": []
  },
  {
   "cell_type": "code",
   "execution_count": 421,
   "metadata": {
    "collapsed": false
   },
   "outputs": [
    {
     "data": {
      "image/png": "[encoded data removed]",
      "text/plain": [
       "<matplotlib.figure.Figure at 0x24450c61ac8>"
      ]
     },
     "metadata": {},
     "output_type": "display_data"
    }
   ],
   "source": [
    "import numpy as np\n",
    "import matplotlib.pyplot as plt\n",
    "plt.hist(result, 50)\n",
    "plt.show()"
   ]
  },
  {
   "cell_type": "markdown",
   "metadata": {},
   "source": [
    "<h3>Real stock price simulation example</h3>"
   ]
  },
  {
   "cell_type": "code",
   "execution_count": 332,
   "metadata": {
    "collapsed": true
   },
   "outputs": [],
   "source": [
    "end_time = 10\n",
    "step_size = 0.05\n",
    "number_of_step = int(end_time/step_size)"
   ]
  },
  {
   "cell_type": "code",
   "execution_count": 333,
   "metadata": {
    "collapsed": false
   },
   "outputs": [],
   "source": [
    "s_0 = 50.\n",
    "t = [step_size*i for i in range(number_of_step+1)]\n",
    "t_dividends = [0.3,0.6]\n",
    "dividends = [2, 2]\n",
    "mu = 0.1\n",
    "sigma = 0.2\n",
    "r = 0.4\n",
    "initial_adjustment = get_dividend_adjustment([0], dividends, t_dividends, r)[0]"
   ]
  },
  {
   "cell_type": "code",
   "execution_count": 334,
   "metadata": {
    "collapsed": false
   },
   "outputs": [
    {
     "data": {
      "text/plain": [
       "[<matplotlib.lines.Line2D at 0x2444c700c88>]"
      ]
     },
     "execution_count": 334,
     "metadata": {},
     "output_type": "execute_result"
    },
    {
     "data": {
      "image/png": "[encoded data removed]",
      "text/plain": [
       "<matplotlib.figure.Figure at 0x2444c6b9cf8>"
      ]
     },
     "metadata": {},
     "output_type": "display_data"
    }
   ],
   "source": [
    "z = np.random.normal(size=number_of_step)\n",
    "s = geometric_brownian_motion(z, t, s_0-initial_adjustment, mu, sigma)\n",
    "s_real = real_stock_price_movement(s, t, r, dividends, t_dividends)\n",
    "plt.plot(t, s_real)"
   ]
  }
 ],
 "metadata": {
  "anaconda-cloud": {},
  "kernelspec": {
   "display_name": "Python [conda env:py35]",
   "language": "python",
   "name": "conda-env-py35-py"
  },
  "language_info": {
   "codemirror_mode": {
    "name": "ipython",
    "version": 3
   },
   "file_extension": ".py",
   "mimetype": "text/x-python",
   "name": "python",
   "nbconvert_exporter": "python",
   "pygments_lexer": "ipython3",
   "version": "3.5.4"
  }
 },
 "nbformat": 4,
 "nbformat_minor": 1
}
