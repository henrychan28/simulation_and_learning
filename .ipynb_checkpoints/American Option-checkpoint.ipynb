{
 "cells": [
  {
   "cell_type": "markdown",
   "metadata": {},
   "source": [
    "<h2>American Call Option Pricing on a Dividend Paying Stock</h2>\n",
    "<h3>Group No.1</h3>"
   ]
  },
  {
   "cell_type": "markdown",
   "metadata": {},
   "source": [
    "<h3>Import Libraries</h3>"
   ]
  },
  {
   "cell_type": "code",
   "execution_count": 1,
   "metadata": {
    "collapsed": false
   },
   "outputs": [],
   "source": [
    "import math\n",
    "\n",
    "import numpy as np\n",
    "import re\n",
    "import matplotlib.pyplot as plt\n",
    "\n",
    "%matplotlib inline\n",
    "np.random.seed(5)"
   ]
  },
  {
   "cell_type": "markdown",
   "metadata": {},
   "source": [
    "<h3>Helper Functions</h3>"
   ]
  },
  {
   "cell_type": "code",
   "execution_count": 2,
   "metadata": {
    "collapsed": true
   },
   "outputs": [],
   "source": [
    "def f_indicator(boolean):\n",
    "    return 1 if boolean else 0"
   ]
  },
  {
   "cell_type": "code",
   "execution_count": 3,
   "metadata": {
    "collapsed": true
   },
   "outputs": [],
   "source": [
    "def geometric_brownian_motion(z, t, s_0, mu, sigma):\n",
    "    '''\n",
    "    Simulate geometric brownian motion according to a given random normal distribution and time stamps\n",
    "    ---------------------------\n",
    "    Parameters\n",
    "    z: array of standard normal distribution with size n\n",
    "    t: list of time stamps with size n+1\n",
    "    \n",
    "    Return\n",
    "    s: array of geometric brownian motion with size n+1 \n",
    "    '''\n",
    "    s = np.repeat(s_0, len(z)+1)\n",
    "    for i in range(1, len(z)+1):\n",
    "        s[i] = s[i-1]*math.exp((mu-0.5*sigma**2)*(t[i]-t[i-1])+sigma*z[i-1]*(t[i]-t[i-1])**0.5)\n",
    "    return s"
   ]
  },
  {
   "cell_type": "code",
   "execution_count": 4,
   "metadata": {
    "collapsed": true
   },
   "outputs": [],
   "source": [
    "def real_stock_price_movement(s, t, r, dividends, t_dividends):\n",
    "    '''\n",
    "    Map geometric brownian motion simulation result to real stock price by adjusting with respect to \n",
    "    the dividend pay\n",
    "    -----------------------------\n",
    "    Parameters\n",
    "    s: array of geometric brownian motion sample with size n+1\n",
    "    t: array of time stamp corresponding to each sample with size n+1\n",
    "    r: interest rate\n",
    "    dividends: list of possible dividend\n",
    "    t_dividends: list of time of dividend pay\n",
    "    \n",
    "    Return\n",
    "    s_real: array of stock price movement with dividend correction\n",
    "    '''\n",
    "    s += get_dividend_adjustment(t, dividends, t_dividends, r)\n",
    "    return s"
   ]
  },
  {
   "cell_type": "code",
   "execution_count": 5,
   "metadata": {
    "collapsed": true
   },
   "outputs": [],
   "source": [
    "def get_dividend_adjustment(t, dividends, t_dividends, r):\n",
    "    '''\n",
    "    Get the present value of dividend at time t with a certain dividend scheme specified\n",
    "    -----------------------------\n",
    "    Parameters\n",
    "    t: list of time stamps\n",
    "    dividends: list of possible dividend\n",
    "    t_dividends: list of time of dividend pay\n",
    "    r: interest rate\n",
    "    \n",
    "    Return\n",
    "    d_t: dividend adjustment at time t (inclusive for dividend at time t)\n",
    "    '''\n",
    "    d_t = np.zeros(len(t), dtype=np.float32)\n",
    "    for idx, time_stamp in enumerate(t):\n",
    "        for t_dividend, dividend in zip(t_dividends, dividends):\n",
    "            d_t[idx] += f_indicator(time_stamp<=t_dividend)*dividend*math.exp(-r*(t_dividend-time_stamp))\n",
    "    return d_t"
   ]
  },
  {
   "cell_type": "code",
   "execution_count": 6,
   "metadata": {
    "collapsed": true
   },
   "outputs": [],
   "source": [
    "def american_option_payoff(s_real, K, r, t, t_dividends, thresholds):\n",
    "    '''\n",
    "    Calculate the payoff of an american option given a strategy defined by thresholds\n",
    "    ----------------------------\n",
    "    Parameters\n",
    "    s_real: array of stock price movement with dividend correction\n",
    "    K: exercise price\n",
    "    r: interest rate\n",
    "    t: list of time stamps for s_real in ascending order\n",
    "    t_dividends: list of time of dividend pay in ascending order\n",
    "    thresholds: list of threshold for determining execution of option\n",
    "    \n",
    "    Return:\n",
    "    payoff: payoff from holding the option with a simulated stock price\n",
    "    '''\n",
    "    for threshold, t_dividend in zip(thresholds, t_dividends):\n",
    "        if t_dividend not in t:\n",
    "            raise ValueError(\"Some elements of t_dividends are not included in t.\")\n",
    "        idx = t.index(t_dividend)\n",
    "        if s_real[idx] >= threshold:\n",
    "            return (s_real[idx] - K) * math.exp(-r*t_dividend)\n",
    "    return max(0, s_real[-1]-K)*math.exp(-r*t[-1])"
   ]
  },
  {
   "cell_type": "code",
   "execution_count": 7,
   "metadata": {
    "collapsed": true
   },
   "outputs": [],
   "source": [
    "def simulate_american_option_payoff(z, t, s_0, mu, sigma, r, K, dividends, t_dividends,thresholds):\n",
    "    '''\n",
    "    Simulate american option payoff from an instance of a standard normal vector\n",
    "    -------------------------------\n",
    "    Parameters\n",
    "    z: array of standard normal distribution with size n\n",
    "    t: list of time stamps with size n+1\n",
    "    s_0: initial stock price\n",
    "    r: interest rate\n",
    "    K: exercise price\n",
    "    dividends: list of possible dividend\n",
    "    t_dividends: list of time of dividend pay\n",
    "    thresholds: list of threshold for determining execution of option\n",
    "\n",
    "    Return:\n",
    "    payoff: payoff from holding the option with a simulated stock price\n",
    "    '''\n",
    "    s = geometric_brownian_motion(z, t, s_0, mu, sigma)\n",
    "    s_real = real_stock_price_movement(s, t, r, dividends, t_dividends)\n",
    "    return american_option_payoff(s_real, K, r, t, t_dividends, thresholds)"
   ]
  },
  {
   "cell_type": "markdown",
   "metadata": {},
   "source": [
    "<h3>Real stock price simulation example</h3>"
   ]
  },
  {
   "cell_type": "markdown",
   "metadata": {},
   "source": [
    "<h4>Small Dividend Pay</h4>\n",
    "<p>This part simulates the real stock price with relatively small dividends comparing to the starting stock price. It is observed that the dividends demonstrate limited effects on the stock price movement.</p>"
   ]
  },
  {
   "cell_type": "code",
   "execution_count": 8,
   "metadata": {
    "collapsed": true
   },
   "outputs": [],
   "source": [
    "end_time = 0.9\n",
    "step_size = 0.005\n",
    "number_of_step = int(end_time/step_size)"
   ]
  },
  {
   "cell_type": "code",
   "execution_count": 9,
   "metadata": {
    "collapsed": false
   },
   "outputs": [],
   "source": [
    "s_0 = 50.\n",
    "t = [step_size*i for i in range(number_of_step+1)]\n",
    "t_dividends = [0.3,0.6]\n",
    "dividends = [2, 2]\n",
    "mu = 0.1\n",
    "sigma = 0.2\n",
    "r = 0.1\n",
    "initial_adjustment = get_dividend_adjustment([0], dividends, t_dividends, r)[0]"
   ]
  },
  {
   "cell_type": "code",
   "execution_count": 10,
   "metadata": {
    "collapsed": false
   },
   "outputs": [
    {
     "data": {
      "text/plain": [
       "[<matplotlib.lines.Line2D at 0x12bb4333208>]"
      ]
     },
     "execution_count": 10,
     "metadata": {},
     "output_type": "execute_result"
    },
    {
     "data": {
      "image/png": "[encoded data removed]",
      "text/plain": [
       "<matplotlib.figure.Figure at 0x12bb4333898>"
      ]
     },
     "metadata": {},
     "output_type": "display_data"
    }
   ],
   "source": [
    "z = np.random.normal(size=number_of_step)\n",
    "s = geometric_brownian_motion(z, t, s_0-initial_adjustment, mu, sigma)\n",
    "s_real = real_stock_price_movement(s, t, r, dividends, t_dividends)\n",
    "plt.xlabel('time')\n",
    "plt.ylabel('stock price')\n",
    "plt.plot(t, s_real)"
   ]
  },
  {
   "cell_type": "markdown",
   "metadata": {},
   "source": [
    "<h4>Large Dividend Pay</h4>\n",
    "<p>By assigning a high dividend pay, the dividend exhibits a more significant effect on the stock price. Toward the dates of dividend pays, the stock price moves up owning to the increase in present value of dividends.</p>"
   ]
  },
  {
   "cell_type": "code",
   "execution_count": 11,
   "metadata": {
    "collapsed": true
   },
   "outputs": [],
   "source": [
    "s_0 = 50.\n",
    "t = [step_size*i for i in range(number_of_step+1)]\n",
    "t_dividends = [0.3,0.6]\n",
    "dividends = [15, 15]\n",
    "mu = 0.1\n",
    "sigma = 0.2\n",
    "r = 0.3\n",
    "initial_adjustment = get_dividend_adjustment([0], dividends, t_dividends, r)[0]"
   ]
  },
  {
   "cell_type": "code",
   "execution_count": 12,
   "metadata": {
    "collapsed": false,
    "scrolled": true
   },
   "outputs": [
    {
     "data": {
      "text/plain": [
       "[<matplotlib.lines.Line2D at 0x12bb645ff60>]"
      ]
     },
     "execution_count": 12,
     "metadata": {},
     "output_type": "execute_result"
    },
    {
     "data": {
      "image/png": "[encoded data removed]",
      "text/plain": [
       "<matplotlib.figure.Figure at 0x12bb6401b00>"
      ]
     },
     "metadata": {},
     "output_type": "display_data"
    }
   ],
   "source": [
    "z = np.random.normal(size=number_of_step)\n",
    "s = geometric_brownian_motion(z, t, s_0-initial_adjustment, mu, sigma)\n",
    "s_real = real_stock_price_movement(s, t, r, dividends, t_dividends)\n",
    "plt.xlabel('time')\n",
    "plt.ylabel('stock price')\n",
    "plt.plot(t, s_real)"
   ]
  },
  {
   "cell_type": "markdown",
   "metadata": {},
   "source": [
    "<h3>Properties of Real Stock Price Movement</h3>"
   ]
  },
  {
   "cell_type": "markdown",
   "metadata": {},
   "source": [
    "<p>By observing the relationship between sigma and payoff, it is reasonable to assume that payoff is an increasing function of sigma in the range of 0.02-0.16.</p>\n",
    "<p>Therefore, while conducting gradient descent, we may assume that the gradient is always positive if sigma falls into the range.</p>"
   ]
  },
  {
   "cell_type": "code",
   "execution_count": 13,
   "metadata": {
    "collapsed": false
   },
   "outputs": [
    {
     "data": {
      "text/plain": [
       "[<matplotlib.lines.Line2D at 0x12bb642a2e8>]"
      ]
     },
     "execution_count": 13,
     "metadata": {},
     "output_type": "execute_result"
    },
    {
     "data": {
      "image/png": "[encoded data removed]",
      "text/plain": [
       "<matplotlib.figure.Figure at 0x12bb642a518>"
      ]
     },
     "metadata": {},
     "output_type": "display_data"
    }
   ],
   "source": [
    "with open('grid_search.txt') as f:\n",
    "    data = f.readlines()\n",
    "data = [x.split() for x in data] \n",
    "payoff = np.zeros(len(data))\n",
    "sigmas = np.zeros(len(data))\n",
    "for idx, line in enumerate(data):\n",
    "    payoff[idx] = float(line[0])\n",
    "    sigmas[idx] = float(line[1])\n",
    "\n",
    "plt.xlabel('\\u03C3')\n",
    "plt.ylabel('Payoff [Sample Mean]')\n",
    "plt.plot(sigmas, payoff)"
   ]
  },
  {
   "cell_type": "markdown",
   "metadata": {
    "collapsed": true
   },
   "source": [
    "<h3>Payoff Simulation</h3>"
   ]
  },
  {
   "cell_type": "markdown",
   "metadata": {},
   "source": [
    "<h4>Simulates an instance of the real stock price movement for inspection</h4>\n",
    "<p>The simulations in this section help to verify the correctness of the program by inspections of shapes of generated stock prices of given conditions in the question.</p>"
   ]
  },
  {
   "cell_type": "code",
   "execution_count": 14,
   "metadata": {
    "collapsed": true
   },
   "outputs": [],
   "source": [
    "#Problem Parameters\n",
    "t_dividends = [0.3, 0.6]\n",
    "t_expiration = 0.9\n",
    "dividends = [2,2]\n",
    "thresholds = [60, 60]\n",
    "s_0 = 50. #starting price\n",
    "K = 50.  #exercise price\n",
    "mu = 0.1\n",
    "sigma = 0.15\n",
    "r = 0.1 #interest rate\n",
    "initial_adjustment = get_dividend_adjustment([0], dividends, t_dividends, r)[0]"
   ]
  },
  {
   "cell_type": "code",
   "execution_count": 15,
   "metadata": {
    "collapsed": true
   },
   "outputs": [],
   "source": [
    "#Time step parameters\n",
    "end_time = 0.9\n",
    "step_size = 0.005\n",
    "number_of_step = int(end_time/step_size)\n",
    "t = [step_size*i for i in range(number_of_step+1)]"
   ]
  },
  {
   "cell_type": "code",
   "execution_count": 16,
   "metadata": {
    "collapsed": false
   },
   "outputs": [
    {
     "data": {
      "text/plain": [
       "[<matplotlib.lines.Line2D at 0x12bb751b0f0>]"
      ]
     },
     "execution_count": 16,
     "metadata": {},
     "output_type": "execute_result"
    },
    {
     "data": {
      "image/png": "[encoded data removed]",
      "text/plain": [
       "<matplotlib.figure.Figure at 0x12bb6430c88>"
      ]
     },
     "metadata": {},
     "output_type": "display_data"
    }
   ],
   "source": [
    "z = np.random.normal(size=len(t)-1)\n",
    "s = geometric_brownian_motion(z, t, s_0-initial_adjustment, mu, sigma)\n",
    "s_real = real_stock_price_movement(s, t, r, dividends, t_dividends)\n",
    "plt.plot(t, s_real)"
   ]
  },
  {
   "cell_type": "code",
   "execution_count": 17,
   "metadata": {
    "collapsed": false
   },
   "outputs": [
    {
     "data": {
      "text/plain": [
       "[<matplotlib.lines.Line2D at 0x12bb75847f0>]"
      ]
     },
     "execution_count": 17,
     "metadata": {},
     "output_type": "execute_result"
    },
    {
     "data": {
      "image/png": "[encoded data removed]",
      "text/plain": [
       "<matplotlib.figure.Figure at 0x12bb64e68d0>"
      ]
     },
     "metadata": {},
     "output_type": "display_data"
    }
   ],
   "source": [
    "t = [0,0.3,0.6,0.9]\n",
    "z = np.random.normal(size=len(t)-1)\n",
    "s = geometric_brownian_motion(z, t, s_0-initial_adjustment, mu, sigma)\n",
    "s_real = real_stock_price_movement(s, t, r, dividends, t_dividends)\n",
    "plt.plot(t, s_real)"
   ]
  },
  {
   "cell_type": "markdown",
   "metadata": {},
   "source": [
    "<h4>Find optimal sigma</h4>\n",
    "<p>Using gradient descent algorithm, the sigma corresponding to a target option price (4.85) is found.</p>"
   ]
  },
  {
   "cell_type": "code",
   "execution_count": 18,
   "metadata": {
    "collapsed": true
   },
   "outputs": [],
   "source": [
    "#Problem Parameters\n",
    "t = [0,0.3,0.6,0.9]\n",
    "t_dividends = [0.3, 0.6]\n",
    "t_expiration = 0.9\n",
    "dividends = [2,2]\n",
    "thresholds = [60, 60]\n",
    "s_0 = 50. #starting price\n",
    "K = 50 #exercise price\n",
    "mu = 0.1\n",
    "r = 0.1 #interest rate\n",
    "initial_adjustment = get_dividend_adjustment([0], dividends, t_dividends, r)[0]\n",
    "option_price = 4.85"
   ]
  },
  {
   "cell_type": "code",
   "execution_count": 19,
   "metadata": {
    "collapsed": true
   },
   "outputs": [],
   "source": [
    "#Simulation Parameters\n",
    "sigma = 0.15\n",
    "n = 60000\n",
    "valid_sample = 10000\n",
    "epilson = 1e-5"
   ]
  },
  {
   "cell_type": "code",
   "execution_count": 20,
   "metadata": {
    "collapsed": false
   },
   "outputs": [],
   "source": [
    "result = np.zeros(n)\n",
    "sigmas = np.zeros(n)\n",
    "current_errors = np.zeros(n)\n",
    "for i in range(n):\n",
    "    z = np.random.normal(size=len(t)-1)\n",
    "    result[i] = simulate_american_option_payoff(z, t, s_0-initial_adjustment, mu, sigma, r, K, dividends, t_dividends,thresholds)\n",
    "    current_error = (result[i] - option_price)\n",
    "    current_errors[i] = current_error\n",
    "    sigmas[i] = sigma\n",
    "    sigma -= epilson*current_error"
   ]
  },
  {
   "cell_type": "code",
   "execution_count": 21,
   "metadata": {
    "collapsed": false
   },
   "outputs": [
    {
     "name": "stdout",
     "output_type": "stream",
     "text": [
      "Price[Mean]: 4.940041789349904 | Price[Std]: 6.639601729824375\n"
     ]
    }
   ],
   "source": [
    "price_mean = result[-valid_sample:].mean()\n",
    "price_std = result[-valid_sample:].std()\n",
    "print(\"Price[Mean]: {0} | Price[Std]: {1}\".format(price_mean, price_std))"
   ]
  },
  {
   "cell_type": "code",
   "execution_count": 22,
   "metadata": {
    "collapsed": false
   },
   "outputs": [
    {
     "data": {
      "text/plain": [
       "[<matplotlib.lines.Line2D at 0x12bb75f3dd8>]"
      ]
     },
     "execution_count": 22,
     "metadata": {},
     "output_type": "execute_result"
    },
    {
     "data": {
      "image/png": "[encoded data removed]",
      "text/plain": [
       "<matplotlib.figure.Figure at 0x12bb752ab00>"
      ]
     },
     "metadata": {},
     "output_type": "display_data"
    }
   ],
   "source": [
    "plt.plot(sigmas)"
   ]
  },
  {
   "cell_type": "code",
   "execution_count": 23,
   "metadata": {
    "collapsed": false
   },
   "outputs": [
    {
     "name": "stdout",
     "output_type": "stream",
     "text": [
      "Sigma[Mean]: 0.2628034765043452 | Sigma[Std]: 0.002524590824909843\n"
     ]
    }
   ],
   "source": [
    "print(\"Sigma[Mean]: {0} | Sigma[Std]: {1}\".format(sigmas[-valid_sample:].mean(), sigmas[-valid_sample:].std()))"
   ]
  },
  {
   "cell_type": "markdown",
   "metadata": {},
   "source": [
    "<h4>Verification of Result</h4>\n",
    "<p>The sigma is found to be 0.260+-0.003. The sigma is cross verified by conducting simulation to check if it could recover the option price.</p>"
   ]
  },
  {
   "cell_type": "code",
   "execution_count": 24,
   "metadata": {
    "collapsed": false
   },
   "outputs": [
    {
     "name": "stdout",
     "output_type": "stream",
     "text": [
      "Price[Mean]: 4.773036340326387 | Price[Std]: 6.510942197544938\n"
     ]
    }
   ],
   "source": [
    "n = 10000\n",
    "sigma = 0.260\n",
    "payoffs = np.zeros(n)\n",
    "for i in range(n):\n",
    "    z = np.random.normal(size=len(t)-1)\n",
    "    s = geometric_brownian_motion(z, t, s_0-initial_adjustment, mu, sigma)\n",
    "    s_real = real_stock_price_movement(s, t, r, dividends, t_dividends)\n",
    "    payoffs[i] = american_option_payoff(s_real, K, r, t, t_dividends, thresholds)\n",
    "print(\"Price[Mean]: {0} | Price[Std]: {1}\".format(payoffs.mean(), payoffs.std()))"
   ]
  },
  {
   "cell_type": "markdown",
   "metadata": {},
   "source": [
    "<p>The simulated sample mean price of the option is close to the actual option price. It is reasonable to suggest that the sigma is indeed the implied volatility.</p>"
   ]
  }
 ],
 "metadata": {
  "anaconda-cloud": {},
  "kernelspec": {
   "display_name": "Python [conda env:py35]",
   "language": "python",
   "name": "conda-env-py35-py"
  },
  "language_info": {
   "codemirror_mode": {
    "name": "ipython",
    "version": 3
   },
   "file_extension": ".py",
   "mimetype": "text/x-python",
   "name": "python",
   "nbconvert_exporter": "python",
   "pygments_lexer": "ipython3",
   "version": "3.5.4"
  }
 },
 "nbformat": 4,
 "nbformat_minor": 1
}
