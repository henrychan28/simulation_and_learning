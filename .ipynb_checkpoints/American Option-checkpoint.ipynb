{
 "cells": [
  {
   "cell_type": "code",
   "execution_count": 184,
   "metadata": {
    "collapsed": false
   },
   "outputs": [
    {
     "name": "stdout",
     "output_type": "stream",
     "text": [
      "The line_profiler extension is already loaded. To reload it, use:\n",
      "  %reload_ext line_profiler\n"
     ]
    }
   ],
   "source": [
    "import math\n",
    "\n",
    "import numpy as np\n",
    "import matplotlib.pyplot as plt\n",
    "\n",
    "%matplotlib inline\n",
    "%load_ext line_profiler"
   ]
  },
  {
   "cell_type": "markdown",
   "metadata": {},
   "source": [
    "<h3>Problem Parameters</h3>"
   ]
  },
  {
   "cell_type": "code",
   "execution_count": null,
   "metadata": {
    "collapsed": true
   },
   "outputs": [],
   "source": [
    "t_dividend = [0.3, 0.6]\n",
    "t_expiration = 0.9\n",
    "dividend = [2,2]\n",
    "threshold_price = [60, 60]\n",
    "s_0 = 50 #starting price\n",
    "K = 50 #exercise price\n",
    "mu = 0.1\n",
    "r = 0.1 #interest rate"
   ]
  },
  {
   "cell_type": "markdown",
   "metadata": {},
   "source": [
    "<h3>Helper Functions</h3>"
   ]
  },
  {
   "cell_type": "code",
   "execution_count": 190,
   "metadata": {
    "collapsed": true
   },
   "outputs": [],
   "source": [
    "def f_indicator(boolean):\n",
    "    return 1 if boolean else 0"
   ]
  },
  {
   "cell_type": "code",
   "execution_count": 418,
   "metadata": {
    "collapsed": true
   },
   "outputs": [],
   "source": [
    "def geometric_brownian_motion(z, t, s_0, mu, sigma):\n",
    "    '''\n",
    "    Simulate geometric brownian motion according to a given random normal distribution and time stamps\n",
    "    ---------------------------\n",
    "    Parameters\n",
    "    z: array of normal distribution with size n\n",
    "    t: list of time stamps with size n+1\n",
    "    \n",
    "    Return\n",
    "    s: array of geometric brownian motion with size n+1 \n",
    "    '''\n",
    "    s = np.repeat(s_0, len(z)+1)\n",
    "    for i in range(1, len(z)+1):\n",
    "        s[i] = s[i-1]*math.exp((mu-0.5*sigma**2)*(t[i]-t[i-1])+sigma*z[i-1]*(t[i]-t[i-1])**0.5)\n",
    "    return s"
   ]
  },
  {
   "cell_type": "code",
   "execution_count": 621,
   "metadata": {
    "collapsed": true
   },
   "outputs": [],
   "source": [
    "def real_stock_price_movement(s, t, r, dividends, t_dividends):\n",
    "    '''\n",
    "    Map geometric brownian motion simulation result to real stock price by adjusting with respect to \n",
    "    the dividend pay\n",
    "    -----------------------------\n",
    "    Parameters\n",
    "    s: array of geometric brownian motion sample with size n+1\n",
    "    t: array of time stamp corresponding to each sample with size n+1\n",
    "    r: interest rate\n",
    "    dividends: list of possible dividend\n",
    "    t_dividends: list of time of dividend pay\n",
    "    \n",
    "    Return\n",
    "    s_real: array of stock price movement with dividend correction\n",
    "    '''\n",
    "    s += get_dividend_adjustment(t, dividends, t_dividends, r)\n",
    "    return s"
   ]
  },
  {
   "cell_type": "code",
   "execution_count": 420,
   "metadata": {
    "collapsed": true
   },
   "outputs": [],
   "source": [
    "def get_dividend_adjustment(t, dividends, t_dividends, r):\n",
    "    '''\n",
    "    Get the present value of dividend at time t with a certain dividend scheme specified\n",
    "    -----------------------------\n",
    "    Parameters\n",
    "    t: list of current time\n",
    "    dividends: list of possible dividend\n",
    "    t_dividends: list of time of dividend pay\n",
    "    r: interest rate\n",
    "    \n",
    "    Return\n",
    "    d_t: dividend adjustment at time t (inclusive for dividend at time t)\n",
    "    '''\n",
    "    d_t = np.zeros(len(t), dtype=np.float32)\n",
    "    for idx, time_stamp in enumerate(t):\n",
    "        for t_dividend, dividend in zip(t_dividends, dividends):\n",
    "            d_t[idx] += f_indicator(time_stamp<=t_dividend)*dividend*math.exp(-r*(t_dividend-time_stamp))\n",
    "    return d_t"
   ]
  },
  {
   "cell_type": "code",
   "execution_count": null,
   "metadata": {
    "collapsed": true
   },
   "outputs": [],
   "source": [
    "def "
   ]
  },
  {
   "cell_type": "code",
   "execution_count": null,
   "metadata": {
    "collapsed": true
   },
   "outputs": [],
   "source": []
  },
  {
   "cell_type": "code",
   "execution_count": null,
   "metadata": {
    "collapsed": true
   },
   "outputs": [],
   "source": []
  },
  {
   "cell_type": "markdown",
   "metadata": {},
   "source": [
    "<h3>Real stock price simulation example</h3>"
   ]
  },
  {
   "cell_type": "code",
   "execution_count": 608,
   "metadata": {
    "collapsed": true
   },
   "outputs": [],
   "source": [
    "end_time = 9\n",
    "step_size = 0.01\n",
    "number_of_step = int(9/step_size)"
   ]
  },
  {
   "cell_type": "code",
   "execution_count": 611,
   "metadata": {
    "collapsed": false
   },
   "outputs": [],
   "source": [
    "s_0 = 100.\n",
    "t = [step_size*i for i in range(number_of_step+1)]\n",
    "t_dividends = [3,6]\n",
    "dividends = [10, 10]\n",
    "mu = 0.003\n",
    "sigma = 0.2\n",
    "r = 0.1"
   ]
  },
  {
   "cell_type": "code",
   "execution_count": 620,
   "metadata": {
    "collapsed": false
   },
   "outputs": [
    {
     "data": {
      "text/plain": [
       "[<matplotlib.lines.Line2D at 0x269802d12e8>]"
      ]
     },
     "execution_count": 620,
     "metadata": {},
     "output_type": "execute_result"
    },
    {
     "data": {
      "image/png": "[encoded data removed]",
      "text/plain": [
       "<matplotlib.figure.Figure at 0x269802714e0>"
      ]
     },
     "metadata": {},
     "output_type": "display_data"
    }
   ],
   "source": [
    "z = np.random.normal(size=number_of_step)\n",
    "s = geometric_brownian_motion(z, t, s_0, mu, sigma)\n",
    "s_real = real_stock_price_movement(s, t, r, dividends, t_dividends)\n",
    "plt.plot(t, s_real)"
   ]
  },
  {
   "cell_type": "code",
   "execution_count": null,
   "metadata": {
    "collapsed": true
   },
   "outputs": [],
   "source": []
  }
 ],
 "metadata": {
  "anaconda-cloud": {},
  "kernelspec": {
   "display_name": "Python [conda env:py35]",
   "language": "python",
   "name": "conda-env-py35-py"
  },
  "language_info": {
   "codemirror_mode": {
    "name": "ipython",
    "version": 3
   },
   "file_extension": ".py",
   "mimetype": "text/x-python",
   "name": "python",
   "nbconvert_exporter": "python",
   "pygments_lexer": "ipython3",
   "version": "3.5.4"
  }
 },
 "nbformat": 4,
 "nbformat_minor": 1
}
